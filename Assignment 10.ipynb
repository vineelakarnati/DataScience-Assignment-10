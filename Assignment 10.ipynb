{
 "cells": [
  {
   "cell_type": "markdown",
   "metadata": {},
   "source": [
    "# TASK 1"
   ]
  },
  {
   "cell_type": "code",
   "execution_count": 7,
   "metadata": {},
   "outputs": [
    {
     "name": "stdout",
     "output_type": "stream",
     "text": [
      "3.2\n",
      "REJECT THE NULL HYPOTHESIS AS 3.200000 is > 1.960000\n"
     ]
    }
   ],
   "source": [
    "# 1. Blood glucose levels for obese patients have a mean of 100 with a standard deviation of 15. A\n",
    "# researcher thinks that a diet high in raw cornstarch will have a positive effect on blood glucose\n",
    "# levels. A sample of 36 patients who have tried the raw cornstarch diet have a mean glucose\n",
    "# level of 108. Test the hypothesis that the raw cornstarch had an effect or not.\n",
    "\n",
    "import math\n",
    "import scipy.stats as st\n",
    "\n",
    "def z_value(x,u0 , sd , n):\n",
    "    z = (x-u0)/(sd/math.sqrt(n))\n",
    "    return z\n",
    "\n",
    "n = 36\n",
    "sd = 15\n",
    "u0 = 100\n",
    "x = 108 \n",
    "a = 0.05/2 #(As it is a two tailed test)\n",
    "z = z_value(x,u0,sd,n)\n",
    "z_score = 1.96 #\n",
    "print(z)\n",
    "if(-z_score < z and z < z_score):\n",
    "    print(\"ACCEPT THE NULL HYPOTHESIS\")\n",
    "else:\n",
    "    print(\"REJECT THE NULL HYPOTHESIS AS %f is > %f\"%(z,z_score))"
   ]
  },
  {
   "cell_type": "code",
   "execution_count": 8,
   "metadata": {},
   "outputs": [
    {
     "name": "stdout",
     "output_type": "stream",
     "text": [
      "Sample is large enough to model normal distribution\n",
      "Standard Deviation of the difference : 0.070619 \n",
      "z-score value : -0.708028 \n",
      "Probability of having a greater percentage of republican voters in second state i.e <= -0.708028 is : 0.239464 \n"
     ]
    }
   ],
   "source": [
    "#2. In one state, 52% of the voters are Republicans, and 48% are Democrats. In a second state,\n",
    "# 47% of the voters are Republicans, and 53% are Democrats. Suppose a simple random sample\n",
    "# of 100 voters are surveyed from each state.\n",
    "# What is the probability that the survey will show a greater percentage of Republican voters in\n",
    "# the second state than in the first state?\n",
    "\n",
    "from scipy import stats\n",
    "from scipy.stats import norm\n",
    "import math\n",
    "\n",
    "P1 = 0.52 #Prob for republicans in state 1\n",
    "p1 = 0.48 #Prob for democrats in state 1\n",
    "P2 = 0.47 #Prob for republicans in state 2\n",
    "p2 = 0.53 #Prob for democrats in state 2\n",
    "n1 = 100\n",
    "n2 = 100\n",
    "x = 0\n",
    "#checking if the sample sizes are big enough \n",
    "\n",
    "if(n1*P1 > 10 and n1*p1 > 10 and n2*P2 > 10 and n2*p2 > 10):\n",
    "    print(\"Sample is large enough to model normal distribution\")\n",
    "    E = P1 - P2\n",
    "    sd = math.sqrt((P1*(1-P1)/n1)+(P2*(1-P2))/n2)\n",
    "    print(\"Standard Deviation of the difference : %f \"%(sd))\n",
    "    z = (x-E)/sd\n",
    "    print(\"z-score value : %f \"%(z))\n",
    "    z_prob = stats.norm.cdf(z)\n",
    "    print(\"Probability of having a greater percentage of republican voters in second state i.e <= %f is : %f\"%(z,z_prob))"
   ]
  },
  {
   "cell_type": "code",
   "execution_count": 9,
   "metadata": {},
   "outputs": [
    {
     "name": "stdout",
     "output_type": "stream",
     "text": [
      " Prob of having score >= 2.551724 is 0.994640\n"
     ]
    }
   ],
   "source": [
    "# 3. You take the SAT and score 1100. The mean score for the SAT is 1026 and the standard\n",
    "# deviation is 209. How well did you score on the test compared to the average test taker?\n",
    "\n",
    "u = 1026\n",
    "sd = 29\n",
    "x = 1100\n",
    "z = (x-u)/sd\n",
    "z_score = stats.norm.cdf(z)\n",
    "print(\" Prob of having score >= %f is %f\"%(z,z_score))"
   ]
  },
  {
   "cell_type": "markdown",
   "metadata": {},
   "source": [
    "# TASK 2"
   ]
  },
  {
   "cell_type": "code",
   "execution_count": 12,
   "metadata": {},
   "outputs": [
    {
     "data": {
      "text/html": [
       "<div>\n",
       "<style scoped>\n",
       "    .dataframe tbody tr th:only-of-type {\n",
       "        vertical-align: middle;\n",
       "    }\n",
       "\n",
       "    .dataframe tbody tr th {\n",
       "        vertical-align: top;\n",
       "    }\n",
       "\n",
       "    .dataframe thead th {\n",
       "        text-align: right;\n",
       "    }\n",
       "</style>\n",
       "<table border=\"1\" class=\"dataframe\">\n",
       "  <thead>\n",
       "    <tr style=\"text-align: right;\">\n",
       "      <th></th>\n",
       "      <th>HighScool</th>\n",
       "      <th>Bachelors</th>\n",
       "      <th>Masters</th>\n",
       "      <th>Phd</th>\n",
       "      <th>Totalr</th>\n",
       "    </tr>\n",
       "  </thead>\n",
       "  <tbody>\n",
       "    <tr>\n",
       "      <th>Female</th>\n",
       "      <td>60</td>\n",
       "      <td>54</td>\n",
       "      <td>46</td>\n",
       "      <td>41</td>\n",
       "      <td>201</td>\n",
       "    </tr>\n",
       "    <tr>\n",
       "      <th>Male</th>\n",
       "      <td>40</td>\n",
       "      <td>44</td>\n",
       "      <td>53</td>\n",
       "      <td>57</td>\n",
       "      <td>194</td>\n",
       "    </tr>\n",
       "    <tr>\n",
       "      <th>Total</th>\n",
       "      <td>100</td>\n",
       "      <td>98</td>\n",
       "      <td>99</td>\n",
       "      <td>98</td>\n",
       "      <td>395</td>\n",
       "    </tr>\n",
       "  </tbody>\n",
       "</table>\n",
       "</div>"
      ],
      "text/plain": [
       "        HighScool  Bachelors  Masters  Phd  Totalr\n",
       "Female         60         54       46   41     201\n",
       "Male           40         44       53   57     194\n",
       "Total         100         98       99   98     395"
      ]
     },
     "execution_count": 12,
     "metadata": {},
     "output_type": "execute_result"
    }
   ],
   "source": [
    "# Is gender independent of education level? A random sample of 395 people were surveyed\n",
    "# and each person was asked to report the highest education level they obtained. The data that\n",
    "# resulted from the survey is summarized in the following table:\n",
    "\n",
    "import pandas as pd\n",
    "import numpy as np\n",
    "df=pd.DataFrame(np.array([[60,54,46,41,201],[40,44,53,57,194],[100,98,99,98,395]]),index=['Female','Male','Total'],columns=['HighScool','Bachelors','Masters','Phd','Totalr'])\n",
    "df"
   ]
  },
  {
   "cell_type": "code",
   "execution_count": 13,
   "metadata": {},
   "outputs": [
    {
     "name": "stdout",
     "output_type": "stream",
     "text": [
      "Null Hypothesis can be rejected as crictical value is less than chi square value and difference is: 0.19106624626253765\n"
     ]
    }
   ],
   "source": [
    "mylist=[]\n",
    "for j in range(len(df['Totalr'])-1):\n",
    "    for i in range(len(df.loc['Total'])-1):\n",
    "        mylist.append(df.loc['Total'][i]*df['Totalr'][j])\n",
    "mylist=mylist/df['Totalr']['Total']\n",
    "df_exp=pd.DataFrame(np.array(mylist).reshape(2,4),index=['Female','Male'],columns=['HighScool','Bachelors','Masters','Phd'])\n",
    "mylist1=[]\n",
    "sum=0\n",
    "for i in range(0,2):\n",
    "    for j in range(0,4):\n",
    "        sum+=(df.iloc[i][j]-df_exp.iloc[i][j])**2/df_exp.iloc[i][j]\n",
    "X2=sum\n",
    "X2_3=7.815\n",
    "final_val=X2-X2_3\n",
    "print('Null Hypothesis can be rejected as crictical value is less than chi square value and difference is:',final_val)"
   ]
  },
  {
   "cell_type": "code",
   "execution_count": 34,
   "metadata": {},
   "outputs": [
    {
     "name": "stdout",
     "output_type": "stream",
     "text": [
      "51.133333333333326\n",
      "F value 9.747205503009457 is more than critical value(3.89) and hence Null Hypothesis can be rejected \n",
      "N2 value is :0.61898001528885\n"
     ]
    }
   ],
   "source": [
    "# 2. Using the following data, perform a oneway analysis of variance using α=.05. Write up the\n",
    "# results in APA format.\n",
    "# [Group1: 51, 45, 33, 45, 67]\n",
    "# [Group2: 23, 43, 23, 43, 45]\n",
    "# [Group3: 56, 76, 74, 87, 56]\n",
    "\n",
    "x1=[51,45,33,45,67]\n",
    "x2=[23,43,23,43,45]\n",
    "x3=[56,76,74,87,56]\n",
    "\n",
    "def means(x):\n",
    "    return (np.sum(x)/len(x))\n",
    "def variance(x):\n",
    "    sd= 0\n",
    "    for i in x:\n",
    "        sd +=(i-means(x))**2\n",
    "    return (sd/(len(x)-1))\n",
    "\n",
    "\n",
    "mean1= means(x1)\n",
    "mean2= means(x2)\n",
    "mean3= means(x3)\n",
    "\n",
    "\n",
    "var1 = variance(x1)\n",
    "var2 = variance(x2)\n",
    "var3 = variance(x3)\n",
    "\n",
    "MSerr=(var1+var2+var3)/3\n",
    "SSerr=MSerr*(3*len(x1)-3)\n",
    "GMean=(mean1+mean2+mean3)/3\n",
    "print(GMean)\n",
    "MSbet=(((mean1-GMean)**2+(mean2-GMean)**2+(mean3-GMean)**2)/2)*5\n",
    "SSGrp=MSbet*2\n",
    "F=MSbet/MSerr\n",
    "print(f'F value {F} is more than critical value(3.89) and hence Null Hypothesis can be rejected ')\n",
    "print(f'N2 value is :{SSGrp/(SSGrp+SSerr)}')\n",
    "\n"
   ]
  },
  {
   "cell_type": "code",
   "execution_count": 37,
   "metadata": {},
   "outputs": [
    {
     "name": "stdout",
     "output_type": "stream",
     "text": [
      "Mean of Group1:30.0\n",
      "Mean of Group2:15.0\n",
      "Variance of Group1:250.0\n",
      "Variance of Group2:62.5\n",
      "F test value is :4.0\n"
     ]
    }
   ],
   "source": [
    "# 3. Calculate F Test for given 10, 20, 30, 40, 50 and 5,10,15, 20, 25.\n",
    "\n",
    "x=[10,20,30,40,50]\n",
    "y=[5,10,15,20,25]\n",
    "xsum=0\n",
    "ysum=0\n",
    "xsum1=0\n",
    "ysum1=0\n",
    "ux= np.sum(x)/len(x)\n",
    "print(f'Mean of Group1:{ux}')\n",
    "uy=np.sum(y)/len(y)\n",
    "print(f'Mean of Group2:{uy}')\n",
    "for i in x:\n",
    "    xsum1+=(i-ux)**2\n",
    "fx=(np.sqrt(xsum1/(len(x)-1)))**2\n",
    "print(f'Variance of Group1:{fx}')\n",
    "\n",
    "for i in y:\n",
    "    ysum1+=(i-uy)**2\n",
    "fy=(np.sqrt(ysum1/(len(y)-1)))**2\n",
    "print(f'Variance of Group2:{fy}')\n",
    "print(f'F test value is :{fx/fy}')"
   ]
  },
  {
   "cell_type": "code",
   "execution_count": null,
   "metadata": {},
   "outputs": [],
   "source": []
  }
 ],
 "metadata": {
  "kernelspec": {
   "display_name": "Python 3",
   "language": "python",
   "name": "python3"
  },
  "language_info": {
   "codemirror_mode": {
    "name": "ipython",
    "version": 3
   },
   "file_extension": ".py",
   "mimetype": "text/x-python",
   "name": "python",
   "nbconvert_exporter": "python",
   "pygments_lexer": "ipython3",
   "version": "3.6.5"
  }
 },
 "nbformat": 4,
 "nbformat_minor": 2
}
